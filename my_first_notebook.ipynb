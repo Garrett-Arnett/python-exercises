{
 "cells": [
  {
   "cell_type": "code",
   "execution_count": 1,
   "id": "037788fc",
   "metadata": {},
   "outputs": [
    {
     "data": {
      "text/plain": [
       "11"
      ]
     },
     "execution_count": 1,
     "metadata": {},
     "output_type": "execute_result"
    }
   ],
   "source": [
    "9 + 2 # nine plus two !"
   ]
  },
  {
   "cell_type": "code",
   "execution_count": 2,
   "id": "ac687f8e",
   "metadata": {},
   "outputs": [
    {
     "data": {
      "text/plain": [
       "6"
      ]
     },
     "execution_count": 2,
     "metadata": {},
     "output_type": "execute_result"
    }
   ],
   "source": [
    "7 - 1 # seven minus one"
   ]
  },
  {
   "cell_type": "code",
   "execution_count": 2,
   "id": "7008a701",
   "metadata": {},
   "outputs": [
    {
     "data": {
      "text/plain": [
       "7"
      ]
     },
     "execution_count": 2,
     "metadata": {},
     "output_type": "execute_result"
    }
   ],
   "source": [
    "9 - 3 + 1"
   ]
  },
  {
   "cell_type": "code",
   "execution_count": 3,
   "id": "18879dc4",
   "metadata": {},
   "outputs": [],
   "source": [
    "# escape + h brings up keyboard shortcuts\n",
    "# escape = (command) \n",
    "# shift + enter runs a cell\n",
    "# Esc + A = insert a new cell above the current cell.\n",
    "# ESC + B = insert a new cell below the current cell.\n",
    "# esc m = markdown"
   ]
  },
  {
   "cell_type": "markdown",
   "id": "d49649e1",
   "metadata": {},
   "source": [
    "### This is for markdown\n",
    "\n",
    "##### Heading\n",
    "\n",
    "###### * List item 1\n",
    "###### * List Item 2"
   ]
  },
  {
   "cell_type": "code",
   "execution_count": null,
   "id": "8cbed47f",
   "metadata": {},
   "outputs": [],
   "source": []
  }
 ],
 "metadata": {
  "kernelspec": {
   "display_name": "Python 3",
   "language": "python",
   "name": "python3"
  },
  "language_info": {
   "codemirror_mode": {
    "name": "ipython",
    "version": 3
   },
   "file_extension": ".py",
   "mimetype": "text/x-python",
   "name": "python",
   "nbconvert_exporter": "python",
   "pygments_lexer": "ipython3",
   "version": "3.9.6 (default, Oct 18 2022, 12:41:40) \n[Clang 14.0.0 (clang-1400.0.29.202)]"
  },
  "vscode": {
   "interpreter": {
    "hash": "31f2aee4e71d21fbe5cf8b01ff0e069b9275f58929596ceb00d14d90e3e16cd6"
   }
  }
 },
 "nbformat": 4,
 "nbformat_minor": 5
}
