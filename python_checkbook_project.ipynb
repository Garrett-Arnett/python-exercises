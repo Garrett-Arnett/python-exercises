{
 "cells": [
  {
   "cell_type": "code",
   "execution_count": null,
   "id": "74b1fc9a",
   "metadata": {},
   "outputs": [],
   "source": [
    "'''Command Line Checkbook Application\n",
    "You will create a command line checkbook application that allows \n",
    "users to track their finances with a command line interface.\n",
    "\n",
    "Project Requirements\n",
    "Build a .py file that will be run from the command line.\n",
    "\n",
    "When run, the application should welcome the user, and prompt them\n",
    "for an action to take:\n",
    "\n",
    "view current balance\n",
    "add a debit (withdrawal)\n",
    "add a credit (deposit)\n",
    "exit\n",
    "\n",
    "The application should notify the user if the input is invalid and\n",
    "prompt for another choice.\n",
    "\n",
    "The application should persist between times that it is run.\n",
    "\n",
    "Example, if you run the application, add some credits, exit the \n",
    "application and run it again, you should still see the balance that \n",
    "you previously created. In order to do this, your application will \n",
    "need to store its data in a text file. Consider creating a file where \n",
    "each line in the file represents a single transaction.\n",
    "\n",
    "Utilize functions to call the balance, debit, credit, and exit\n",
    "\n",
    "Example Ouput\n",
    "Here is an example of what using the program might look like:\n",
    "\n",
    "\n",
    "    $ python checkbook.py\n",
    "\n",
    "    ~~~ Welcome to your terminal checkbook! ~~~\n",
    "\n",
    "    What would you like to do?\n",
    "\n",
    "    1) view current balance\n",
    "    2) record a debit (withdraw)\n",
    "    3) record a credit (deposit)\n",
    "    4) exit\n",
    "\n",
    "    Your choice? 5\n",
    "    Invalid choice: 5\n",
    "\n",
    "    Your choice? 1\n",
    "\n",
    "    Your current balance is $100.00.\n",
    "\n",
    "    What would you like to do?\n",
    "\n",
    "    1) view current balance\n",
    "    2) record a debit (withdraw)\n",
    "    3) record a credit (deposit)\n",
    "    4) exit\n",
    "\n",
    "    Your choice? 2\n",
    "\n",
    "    How much is the debit? $50\n",
    "\n",
    "    What would you like to do?\n",
    "\n",
    "    1) view current balance\n",
    "    2) record a debit (withdraw)\n",
    "    3) record a credit (deposit)\n",
    "    4) exit\n",
    "\n",
    "    Your choice? 1\n",
    "\n",
    "    Your current balance is $50.00.\n",
    "\n",
    "    What would you like to do?\n",
    "\n",
    "    1) view current balance\n",
    "    2) record a debit (withdraw)\n",
    "    3) record a credit (deposit)\n",
    "    4) exit\n",
    "\n",
    "    Your choice? 4\n",
    "\n",
    "    Thanks, have a great day! '''"
   ]
  },
  {
   "cell_type": "code",
   "execution_count": 3,
   "id": "f2cd24a3",
   "metadata": {},
   "outputs": [],
   "source": [
    "import os"
   ]
  },
  {
   "cell_type": "code",
   "execution_count": 4,
   "id": "43591fd6",
   "metadata": {},
   "outputs": [],
   "source": [
    "transactions_file = \"transactions.txt\""
   ]
  },
  {
   "cell_type": "code",
   "execution_count": 8,
   "id": "287e0410",
   "metadata": {},
   "outputs": [],
   "source": [
    "def check_file():\n",
    "    if not os.path.exists(transactions_file):\n",
    "        open(transactions_file, \"w\").close()"
   ]
  },
  {
   "cell_type": "code",
   "execution_count": null,
   "id": "7f9db742",
   "metadata": {},
   "outputs": [],
   "source": []
  },
  {
   "cell_type": "code",
   "execution_count": null,
   "id": "f2760eba",
   "metadata": {},
   "outputs": [],
   "source": []
  },
  {
   "cell_type": "code",
   "execution_count": null,
   "id": "c1ffdf18",
   "metadata": {},
   "outputs": [],
   "source": []
  },
  {
   "cell_type": "code",
   "execution_count": 1,
   "id": "435fbd95",
   "metadata": {},
   "outputs": [
    {
     "name": "stdout",
     "output_type": "stream",
     "text": [
      "~~~ Welcome to your terminal checkbook! ~~~ \n",
      "\n",
      "What would you like to do?\n",
      "\n",
      "1) view current balance\n",
      "2) record a debit (withdraw)\n",
      "3) record a credit (deposit)\n",
      "4) exit\n",
      "Your Choice? 6\n",
      "Invalid Choice\n",
      "Your Choice? 4\n"
     ]
    }
   ],
   "source": [
    "print('~~~ Welcome to your terminal checkbook! ~~~ \\n\\nWhat would you like to do?\\n\\n1) view current balance\\n2) record a debit (withdraw)\\n3) record a credit (deposit)\\n4) exit')\n",
    "while True:\n",
    "    \n",
    "    num = int(input('Your Choice? '))\n",
    "    \n",
    "    if num == 1:\n",
    "        print('...')\n",
    "    elif num == 2:\n",
    "        print('....')\n",
    "    elif num == 3:\n",
    "        print('.....')\n",
    "    elif num == 4:\n",
    "        break\n",
    "    elif num != (1, 2, 3, 4):\n",
    "        print('Invalid Choice')\n",
    "\n",
    "\n",
    "\n",
    "\n"
   ]
  },
  {
   "cell_type": "code",
   "execution_count": null,
   "id": "600d9809",
   "metadata": {},
   "outputs": [],
   "source": []
  },
  {
   "cell_type": "code",
   "execution_count": null,
   "id": "533975c0",
   "metadata": {},
   "outputs": [],
   "source": []
  },
  {
   "cell_type": "code",
   "execution_count": null,
   "id": "a4bc7e97",
   "metadata": {},
   "outputs": [],
   "source": []
  },
  {
   "cell_type": "code",
   "execution_count": null,
   "id": "0b4b7f5c",
   "metadata": {},
   "outputs": [],
   "source": []
  },
  {
   "cell_type": "code",
   "execution_count": null,
   "id": "34372ce2",
   "metadata": {},
   "outputs": [],
   "source": []
  },
  {
   "cell_type": "code",
   "execution_count": null,
   "id": "5656735f",
   "metadata": {},
   "outputs": [],
   "source": []
  },
  {
   "cell_type": "code",
   "execution_count": null,
   "id": "e32587ff",
   "metadata": {},
   "outputs": [],
   "source": []
  },
  {
   "cell_type": "code",
   "execution_count": null,
   "id": "7ee75d78",
   "metadata": {},
   "outputs": [],
   "source": []
  },
  {
   "cell_type": "code",
   "execution_count": null,
   "id": "041a9bcf",
   "metadata": {},
   "outputs": [],
   "source": []
  },
  {
   "cell_type": "code",
   "execution_count": null,
   "id": "0179916f",
   "metadata": {},
   "outputs": [],
   "source": []
  },
  {
   "cell_type": "code",
   "execution_count": null,
   "id": "d6c195e5",
   "metadata": {},
   "outputs": [],
   "source": []
  },
  {
   "cell_type": "code",
   "execution_count": null,
   "id": "97f606fb",
   "metadata": {},
   "outputs": [],
   "source": []
  },
  {
   "cell_type": "code",
   "execution_count": null,
   "id": "bcecbb54",
   "metadata": {},
   "outputs": [],
   "source": []
  },
  {
   "cell_type": "code",
   "execution_count": null,
   "id": "2836d860",
   "metadata": {},
   "outputs": [],
   "source": [
    "# Correct Start\n",
    "print('~~~ Welcome to your terminal checkbook! ~~~ \\n\\nWhat would you like to do?\\n\\n1) view current balance\\n2) record a debit (withdraw)\\n3) record a credit (deposit)\\n4) exit')\n",
    "while True:\n",
    "    \n",
    "    num = int(input('Your Choice? '))\n",
    "    \n",
    "    if num == 1:\n",
    "        print('...')\n",
    "    elif num == 2:\n",
    "        print('....')\n",
    "    elif num == 3:\n",
    "        print('.....')\n",
    "    elif num == 4:\n",
    "        break\n",
    "    elif num != (1, 2, 3, 4):\n",
    "        print('Invalid Choice')\n",
    "\n"
   ]
  }
 ],
 "metadata": {
  "kernelspec": {
   "display_name": "Python 3 (ipykernel)",
   "language": "python",
   "name": "python3"
  },
  "language_info": {
   "codemirror_mode": {
    "name": "ipython",
    "version": 3
   },
   "file_extension": ".py",
   "mimetype": "text/x-python",
   "name": "python",
   "nbconvert_exporter": "python",
   "pygments_lexer": "ipython3",
   "version": "3.9.13"
  }
 },
 "nbformat": 4,
 "nbformat_minor": 5
}
